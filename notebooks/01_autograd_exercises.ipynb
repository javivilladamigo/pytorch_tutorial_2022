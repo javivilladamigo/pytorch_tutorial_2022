{
 "cells": [
  {
   "cell_type": "code",
   "execution_count": 1,
   "id": "ccc4e6a6",
   "metadata": {},
   "outputs": [],
   "source": [
    "%matplotlib inline\n",
    "%reload_ext autoreload\n",
    "%autoreload 2"
   ]
  },
  {
   "cell_type": "code",
   "execution_count": 2,
   "id": "75c92a08",
   "metadata": {},
   "outputs": [
    {
     "name": "stderr",
     "output_type": "stream",
     "text": [
      "/usr/local/lib/python3.10/site-packages/tqdm/auto.py:22: TqdmWarning: IProgress not found. Please update jupyter and ipywidgets. See https://ipywidgets.readthedocs.io/en/stable/user_install.html\n",
      "  from .autonotebook import tqdm as notebook_tqdm\n"
     ]
    }
   ],
   "source": [
    "import torch\n",
    "from torch import Tensor"
   ]
  },
  {
   "cell_type": "markdown",
   "id": "2804cbf5",
   "metadata": {},
   "source": [
    "In this set of exercises, we will consider recorded hits for muon positions along a single dimension. The recorded positions suffer from finite resolution and so carry an uncertainty. The recorded positions (hits) are then used to compute a variable per muon. You will need to compute the uncertainty on this value due to the finite resolution."
   ]
  },
  {
   "cell_type": "markdown",
   "id": "7c767c23",
   "metadata": {},
   "source": [
    "## Set up\n",
    "First we want to set up our resolution. This should be a single-element tensor, called `resolution`, with a value of 100.0, that requires gradient:"
   ]
  },
  {
   "cell_type": "code",
   "execution_count": 3,
   "id": "9e40b309",
   "metadata": {},
   "outputs": [],
   "source": [
    "# your code goes here\n",
    "\n",
    "resolution = torch.tensor([100.], requires_grad = True)"
   ]
  },
  {
   "cell_type": "code",
   "execution_count": 4,
   "id": "56f9a3c3",
   "metadata": {},
   "outputs": [],
   "source": [
    "assert resolution == 1e2\n",
    "assert resolution.requires_grad"
   ]
  },
  {
   "cell_type": "markdown",
   "id": "2eb3a286",
   "metadata": {},
   "source": [
    "Now we want to take the true positions of the muons, `true_x`, and perturb them with the resolution. We assume that the resolution error contributes as a Gaussian:"
   ]
  },
  {
   "cell_type": "code",
   "execution_count": 5,
   "id": "9a9d87fb",
   "metadata": {},
   "outputs": [],
   "source": [
    "true_x = torch.rand(100,1)"
   ]
  },
  {
   "cell_type": "code",
   "execution_count": 6,
   "id": "f3fb3318",
   "metadata": {},
   "outputs": [
    {
     "data": {
      "text/plain": [
       "tensor([[0.1151],\n",
       "        [0.1807],\n",
       "        [0.1045],\n",
       "        [0.7956],\n",
       "        [0.2432],\n",
       "        [0.2341],\n",
       "        [0.6484],\n",
       "        [0.0540],\n",
       "        [0.7728],\n",
       "        [0.3081]], grad_fn=<SliceBackward0>)"
      ]
     },
     "execution_count": 6,
     "metadata": {},
     "output_type": "execute_result"
    }
   ],
   "source": [
    "reco_x = true_x+(torch.randn_like(true_x)/resolution)\n",
    "reco_x[:10]"
   ]
  },
  {
   "cell_type": "markdown",
   "id": "b243b8d2",
   "metadata": {},
   "source": [
    "Below is the function that will compute the variable from the the recorded hits:"
   ]
  },
  {
   "cell_type": "code",
   "execution_count": 7,
   "id": "bb9b15e4",
   "metadata": {},
   "outputs": [],
   "source": [
    "def infer_theta(reco_hits:Tensor) -> Tensor:\n",
    "    dz = 1.5\n",
    "    theta = torch.arctan(reco_hits.abs()/dz)\n",
    "    return theta"
   ]
  },
  {
   "cell_type": "code",
   "execution_count": 8,
   "id": "7a01530a",
   "metadata": {},
   "outputs": [],
   "source": [
    "theta = infer_theta(reco_x)"
   ]
  },
  {
   "cell_type": "code",
   "execution_count": 9,
   "id": "290aab51",
   "metadata": {},
   "outputs": [
    {
     "data": {
      "text/plain": [
       "tensor([[0.0766],\n",
       "        [0.1199],\n",
       "        [0.0696],\n",
       "        [0.4877],\n",
       "        [0.1607],\n",
       "        [0.1548],\n",
       "        [0.4080],\n",
       "        [0.0360],\n",
       "        [0.4758],\n",
       "        [0.2026]], grad_fn=<SliceBackward0>)"
      ]
     },
     "execution_count": 9,
     "metadata": {},
     "output_type": "execute_result"
    }
   ],
   "source": [
    "theta[:10]"
   ]
  },
  {
   "cell_type": "markdown",
   "id": "62462d77",
   "metadata": {},
   "source": [
    "## Uncertainty\n",
    "The uncertainty propagation formula for one dependent variable ($x$) is:\n",
    "$$\\sigma_y = \\frac{\\partial y}{\\partial x}\\sigma_x$$\n",
    "\n",
    "Below, implement this formula and compute the uncertainty on the inferred theta angle for every muon."
   ]
  },
  {
   "cell_type": "code",
   "execution_count": 10,
   "id": "668b239e",
   "metadata": {},
   "outputs": [],
   "source": [
    "# your code goes here\n",
    "\n",
    "# using the jacobian function defined in the lesson\n",
    "from torch._vmap_internals import _vmap as vmap\n",
    "\n",
    "def jacobian(y: Tensor, x: Tensor, create_graph: bool = False, allow_unused: bool = True) -> Tensor:\n",
    "    r\"\"\"\n",
    "    Computes the Jacobian (dy/dx) of y with respect to variables x. x and y can have multiple elements.\n",
    "    If y has multiple elements then computation is vectorised via vmap.\n",
    "\n",
    "    Arguments:\n",
    "        y: tensor to be differentiated\n",
    "        x: dependent variables\n",
    "        create_graph: If True, graph of the derivative will\n",
    "            be constructed, allowing to compute higher order derivative products.\n",
    "            Default: False.\n",
    "        allow_unused: If False, specifying inputs that were not\n",
    "            used when computing outputs (and therefore their grad is always\n",
    "\n",
    "    Returns:\n",
    "        dy/dx tensor of shape y.shape+x.shape\n",
    "    \"\"\"\n",
    "\n",
    "    if len(y) == 0:\n",
    "        return None\n",
    "    flat_y = y.reshape(-1)\n",
    "\n",
    "    def get_vjp(v: Tensor) -> Tensor:\n",
    "        return torch.autograd.grad(flat_y, x, v, retain_graph=True, create_graph=create_graph, allow_unused=allow_unused)[0].reshape(x.shape)\n",
    "\n",
    "    return vmap(get_vjp)(torch.eye(len(flat_y), device=y.device)).reshape(y.shape + x.shape)"
   ]
  },
  {
   "cell_type": "code",
   "execution_count": 12,
   "id": "36b0ac90",
   "metadata": {},
   "outputs": [
    {
     "data": {
      "text/plain": [
       "(torch.Size([100, 1]), torch.Size([100, 1]))"
      ]
     },
     "execution_count": 12,
     "metadata": {},
     "output_type": "execute_result"
    }
   ],
   "source": [
    "reco_x.shape, theta.shape"
   ]
  },
  {
   "cell_type": "code",
   "execution_count": 14,
   "id": "9bfaab03",
   "metadata": {},
   "outputs": [
    {
     "data": {
      "text/plain": [
       "torch.Size([100, 1, 100, 1])"
      ]
     },
     "execution_count": 14,
     "metadata": {},
     "output_type": "execute_result"
    }
   ],
   "source": [
    "jacobian(theta, reco_x).shape"
   ]
  },
  {
   "cell_type": "code",
   "execution_count": 31,
   "id": "e4099824",
   "metadata": {},
   "outputs": [
    {
     "data": {
      "text/plain": [
       "tensor([[[[0.0066],\n",
       "          [0.0000],\n",
       "          [0.0000],\n",
       "          ...,\n",
       "          [0.0000],\n",
       "          [0.0000],\n",
       "          [0.0000]]],\n",
       "\n",
       "\n",
       "        [[[0.0000],\n",
       "          [0.0066],\n",
       "          [0.0000],\n",
       "          ...,\n",
       "          [0.0000],\n",
       "          [0.0000],\n",
       "          [0.0000]]],\n",
       "\n",
       "\n",
       "        [[[0.0000],\n",
       "          [0.0000],\n",
       "          [0.0066],\n",
       "          ...,\n",
       "          [0.0000],\n",
       "          [0.0000],\n",
       "          [0.0000]]],\n",
       "\n",
       "\n",
       "        ...,\n",
       "\n",
       "\n",
       "        [[[0.0000],\n",
       "          [0.0000],\n",
       "          [0.0000],\n",
       "          ...,\n",
       "          [0.0067],\n",
       "          [0.0000],\n",
       "          [0.0000]]],\n",
       "\n",
       "\n",
       "        [[[0.0000],\n",
       "          [0.0000],\n",
       "          [0.0000],\n",
       "          ...,\n",
       "          [0.0000],\n",
       "          [0.0064],\n",
       "          [0.0000]]],\n",
       "\n",
       "\n",
       "        [[[0.0000],\n",
       "          [0.0000],\n",
       "          [0.0000],\n",
       "          ...,\n",
       "          [0.0000],\n",
       "          [0.0000],\n",
       "          [0.0056]]]], grad_fn=<DivBackward0>)"
      ]
     },
     "execution_count": 31,
     "metadata": {},
     "output_type": "execute_result"
    }
   ],
   "source": [
    "jacobian(theta, reco_x) / resolution"
   ]
  },
  {
   "cell_type": "code",
   "execution_count": 32,
   "id": "7b37fc3a",
   "metadata": {},
   "outputs": [],
   "source": [
    "unc_theta = (jacobian(theta, reco_x) / resolution).sum((-1, -2)) # the arguments of sum to sum along the diagonal"
   ]
  },
  {
   "cell_type": "code",
   "execution_count": 33,
   "id": "5450d115",
   "metadata": {},
   "outputs": [
    {
     "data": {
      "text/plain": [
       "tensor([[0.0066],\n",
       "        [0.0066],\n",
       "        [0.0066],\n",
       "        [0.0052],\n",
       "        [0.0065],\n",
       "        [0.0065],\n",
       "        [0.0056],\n",
       "        [0.0067],\n",
       "        [0.0053],\n",
       "        [0.0064]], grad_fn=<SliceBackward0>)"
      ]
     },
     "execution_count": 33,
     "metadata": {},
     "output_type": "execute_result"
    }
   ],
   "source": [
    "unc_theta[:10]"
   ]
  }
 ],
 "metadata": {
  "kernelspec": {
   "display_name": "Python 3.10.8 64-bit",
   "language": "python",
   "name": "python3"
  },
  "language_info": {
   "codemirror_mode": {
    "name": "ipython",
    "version": 3
   },
   "file_extension": ".py",
   "mimetype": "text/x-python",
   "name": "python",
   "nbconvert_exporter": "python",
   "pygments_lexer": "ipython3",
   "version": "3.10.8"
  },
  "toc": {
   "base_numbering": 1,
   "nav_menu": {},
   "number_sections": true,
   "sideBar": true,
   "skip_h1_title": false,
   "title_cell": "Table of Contents",
   "title_sidebar": "Contents",
   "toc_cell": false,
   "toc_position": {},
   "toc_section_display": true,
   "toc_window_display": false
  },
  "vscode": {
   "interpreter": {
    "hash": "7e1998ff7f8aa20ada591c520b972326324e5ea05489af9e422744c7c09f6dad"
   }
  }
 },
 "nbformat": 4,
 "nbformat_minor": 5
}
