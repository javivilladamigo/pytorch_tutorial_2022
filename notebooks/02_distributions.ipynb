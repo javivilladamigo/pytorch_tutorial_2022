{
 "cells": [
  {
   "cell_type": "code",
   "execution_count": 1,
   "id": "ccc4e6a6",
   "metadata": {},
   "outputs": [],
   "source": [
    "%matplotlib inline\n",
    "%reload_ext autoreload\n",
    "%autoreload 2"
   ]
  },
  {
   "cell_type": "code",
   "execution_count": 5,
   "id": "46b68e0a",
   "metadata": {},
   "outputs": [],
   "source": [
    "import torch\n",
    "from torch import Tensor"
   ]
  },
  {
   "cell_type": "markdown",
   "id": "ff9e3ff0",
   "metadata": {},
   "source": [
    "## Random sampling\n",
    "As seen in part 01, PyTorch can generate tensors filled with random numbers samples according to basic distributions:"
   ]
  },
  {
   "cell_type": "markdown",
   "id": "3a0524d4",
   "metadata": {},
   "source": [
    "* `rand(N, M)` generates a NxM tensor of _uniformly_ distributed numbers between 0 and 1\n",
    "* `randn(N)` generates and one-dimensional N-long tensor with numbers following a (0, 1)-Gaussian"
   ]
  },
  {
   "cell_type": "code",
   "execution_count": 6,
   "id": "b5521c0b",
   "metadata": {},
   "outputs": [
    {
     "data": {
      "text/plain": [
       "tensor([[0.7989, 0.1386, 0.9296],\n",
       "        [0.0479, 0.5572, 0.8357],\n",
       "        [0.2185, 0.9958, 0.6452],\n",
       "        [0.3999, 0.2476, 0.4539],\n",
       "        [0.3991, 0.5335, 0.2886],\n",
       "        [0.1383, 0.9166, 0.1645],\n",
       "        [0.9382, 0.2281, 0.5662],\n",
       "        [0.5468, 0.0915, 0.8896],\n",
       "        [0.4000, 0.7398, 0.2083],\n",
       "        [0.6401, 0.5134, 0.1580]])"
      ]
     },
     "execution_count": 6,
     "metadata": {},
     "output_type": "execute_result"
    }
   ],
   "source": [
    "torch.rand(10,3)  # Sample 30 numbers from a uniform distribution between 0 and 1"
   ]
  },
  {
   "cell_type": "code",
   "execution_count": 7,
   "id": "c7d26256",
   "metadata": {},
   "outputs": [
    {
     "data": {
      "text/plain": [
       "tensor([-0.0558, -0.0268,  0.0302, -0.5548, -0.7238,  0.4541, -1.9935,  0.2738])"
      ]
     },
     "execution_count": 7,
     "metadata": {},
     "output_type": "execute_result"
    }
   ],
   "source": [
    "torch.randn(8)  # Sample 8 numbers from a unit-Gaussian"
   ]
  },
  {
   "cell_type": "markdown",
   "id": "efb0427f",
   "metadata": {},
   "source": [
    "## Distribution classes\n",
    "Sometimes we instead want to sample from <mark>more complex distributions, or to be able to treat distributions as objects with their own parameters and methods</mark>. \n",
    "`torch.distributions` contains a variety of such classes.\n",
    "\n",
    "The majority of this example will use the `Normal` distribution, but check https://pytorch.org/docs/stable/distributions.html for more info"
   ]
  },
  {
   "cell_type": "code",
   "execution_count": 9,
   "id": "7b6abac0",
   "metadata": {},
   "outputs": [],
   "source": [
    "from torch import distributions\n",
    "\n",
    "norm = distributions.Normal(loc=0, scale=1)  # scale here is the standard deviation"
   ]
  },
  {
   "cell_type": "markdown",
   "id": "8ff59a36",
   "metadata": {},
   "source": [
    "Ones instantiated, `Distribution`s have a variety of methods, e.g.:"
   ]
  },
  {
   "cell_type": "code",
   "execution_count": 10,
   "id": "12ca383e",
   "metadata": {},
   "outputs": [
    {
     "data": {
      "text/plain": [
       "tensor([-2.9189])"
      ]
     },
     "execution_count": 10,
     "metadata": {},
     "output_type": "execute_result"
    }
   ],
   "source": [
    "norm.log_prob(Tensor([2]))  # evaluate the log PDF at x=2"
   ]
  },
  {
   "cell_type": "markdown",
   "id": "8e111536",
   "metadata": {},
   "source": [
    "Normally, methods can take multi-element tensors, which results in the operation being broadcast across each element:"
   ]
  },
  {
   "cell_type": "code",
   "execution_count": 11,
   "id": "7cf48830",
   "metadata": {},
   "outputs": [
    {
     "data": {
      "text/plain": [
       "tensor([-2.9189, -1.4189, -0.9189, -1.4189, -2.9189])"
      ]
     },
     "execution_count": 11,
     "metadata": {},
     "output_type": "execute_result"
    }
   ],
   "source": [
    "norm.log_prob(Tensor([-2,-1,0,1,2]))  # evaluate the log probability at multiple values"
   ]
  },
  {
   "cell_type": "code",
   "execution_count": 12,
   "id": "3f81b216",
   "metadata": {},
   "outputs": [
    {
     "data": {
      "text/plain": [
       "tensor([0.0228, 0.1587, 0.5000, 0.8413, 0.9772])"
      ]
     },
     "execution_count": 12,
     "metadata": {},
     "output_type": "execute_result"
    }
   ],
   "source": [
    "norm.cdf(Tensor([-2,-1,0,1,2]))  # evaluate the cumulative probability"
   ]
  },
  {
   "cell_type": "markdown",
   "id": "b046a3da",
   "metadata": {},
   "source": [
    "We can also <mark>randomly sample from the distribution by specifying the desired shape of the resulting tensor</mark>:"
   ]
  },
  {
   "cell_type": "code",
   "execution_count": 24,
   "id": "8992e7d0",
   "metadata": {
    "scrolled": false
   },
   "outputs": [
    {
     "data": {
      "text/plain": [
       "tensor([[[[10.1973,  1.5331],\n",
       "          [20.2071,  3.3548]],\n",
       "\n",
       "         [[ 9.5750,  0.3920],\n",
       "          [21.0693,  6.0694]]],\n",
       "\n",
       "\n",
       "        [[[ 9.1970,  0.5481],\n",
       "          [21.4307,  4.6483]],\n",
       "\n",
       "         [[ 9.2024,  0.3354],\n",
       "          [20.2116,  4.4884]]],\n",
       "\n",
       "\n",
       "        [[[10.5075,  2.7779],\n",
       "          [18.3875,  5.0385]],\n",
       "\n",
       "         [[ 9.2039,  2.2837],\n",
       "          [18.4709,  3.7309]]]])"
      ]
     },
     "execution_count": 24,
     "metadata": {},
     "output_type": "execute_result"
    }
   ],
   "source": [
    "norm.sample([3,2])"
   ]
  },
  {
   "cell_type": "markdown",
   "id": "8cc9347e",
   "metadata": {},
   "source": [
    "## Parameterised distributions\n",
    "Previously, we created a distribution using floats, but using tensors gives us a bit more flexibility. <mark>You can create a tensor in which each element has different mean and standard deviation:</mark>"
   ]
  },
  {
   "cell_type": "code",
   "execution_count": 34,
   "id": "bab5b583",
   "metadata": {},
   "outputs": [],
   "source": [
    "norm = distributions.Normal(loc=Tensor([[0,2],[-1,3]]),scale=Tensor([[1,1.5],[6,2]]))"
   ]
  },
  {
   "cell_type": "markdown",
   "id": "e0b33d2a",
   "metadata": {},
   "source": [
    "Effectively, our `norm` now contains 4 different Gaussians with a specify shape, and methods will now return tensors with that shape"
   ]
  },
  {
   "cell_type": "code",
   "execution_count": 37,
   "id": "e66c4635",
   "metadata": {},
   "outputs": [
    {
     "data": {
      "text/plain": [
       "tensor([[-2.9189, -1.3244],\n",
       "        [-2.8357, -1.7371]])"
      ]
     },
     "execution_count": 37,
     "metadata": {},
     "output_type": "execute_result"
    }
   ],
   "source": [
    "norm.log_prob(Tensor([2]))  # evaluate the log PDF of all 4 Gaussians at x=2"
   ]
  },
  {
   "cell_type": "markdown",
   "id": "d9736481",
   "metadata": {},
   "source": [
    "Multi-point evaluation, needs to be done such that the evaluation points can be reshaped automatically"
   ]
  },
  {
   "cell_type": "code",
   "execution_count": 38,
   "id": "d54b261c",
   "metadata": {},
   "outputs": [
    {
     "data": {
      "text/plain": [
       "tensor([[[-2.9189, -4.8800],\n",
       "         [-2.7246, -4.7371]],\n",
       "\n",
       "        [[-1.4189, -3.3244],\n",
       "         [-2.7107, -3.6121]],\n",
       "\n",
       "        [[-0.9189, -2.2133],\n",
       "         [-2.7246, -2.7371]],\n",
       "\n",
       "        [[-1.4189, -1.5466],\n",
       "         [-2.7663, -2.1121]],\n",
       "\n",
       "        [[-2.9189, -1.3244],\n",
       "         [-2.8357, -1.7371]]])"
      ]
     },
     "execution_count": 38,
     "metadata": {},
     "output_type": "execute_result"
    }
   ],
   "source": [
    "norm.log_prob(Tensor([-2,-1,0,1,2])[:,None,None])  # evaluate the log PDF of all 4 Gaussians at several points"
   ]
  },
  {
   "cell_type": "code",
   "execution_count": 39,
   "id": "cc7775ea",
   "metadata": {},
   "outputs": [
    {
     "data": {
      "text/plain": [
       "tensor([[-2.9189, -3.3244],\n",
       "        [-2.7663, -1.7371]])"
      ]
     },
     "execution_count": 39,
     "metadata": {},
     "output_type": "execute_result"
    }
   ],
   "source": [
    "norm.log_prob(Tensor([[-2,-1],[1,2]]))  # evaluate the log PDF each Gaussian at a different specific point"
   ]
  },
  {
   "cell_type": "markdown",
   "id": "bfb430db",
   "metadata": {},
   "source": [
    "### Parameter updates\n",
    "<mark>When the distributions are initialised, the values of the tensors are not copied, instead the distribution is given a pointer to the tensor. This means that if the the value of the tensor changes, then the distribution will also change accordingly:</mark>"
   ]
  },
  {
   "cell_type": "code",
   "execution_count": 40,
   "id": "0eca2966",
   "metadata": {},
   "outputs": [],
   "source": [
    "loc = torch.tensor([0])\n",
    "scale = torch.tensor([1])"
   ]
  },
  {
   "cell_type": "code",
   "execution_count": 41,
   "id": "7f7958f2",
   "metadata": {},
   "outputs": [],
   "source": [
    "norm = distributions.Normal(loc=loc,scale=scale)"
   ]
  },
  {
   "cell_type": "code",
   "execution_count": 42,
   "id": "b9850c6f",
   "metadata": {},
   "outputs": [
    {
     "data": {
      "text/plain": [
       "tensor([-2.9189])"
      ]
     },
     "execution_count": 42,
     "metadata": {},
     "output_type": "execute_result"
    }
   ],
   "source": [
    "norm.log_prob(Tensor([2]))"
   ]
  },
  {
   "cell_type": "markdown",
   "id": "2ab14d62",
   "metadata": {},
   "source": [
    "Now let's change the parameters in-place"
   ]
  },
  {
   "cell_type": "code",
   "execution_count": 43,
   "id": "6e08254b",
   "metadata": {},
   "outputs": [],
   "source": [
    "loc[0] = 3"
   ]
  },
  {
   "cell_type": "code",
   "execution_count": 44,
   "id": "35808fb7",
   "metadata": {},
   "outputs": [
    {
     "data": {
      "text/plain": [
       "tensor([-1.4189])"
      ]
     },
     "execution_count": 44,
     "metadata": {},
     "output_type": "execute_result"
    }
   ],
   "source": [
    "norm.log_prob(Tensor([2]))"
   ]
  },
  {
   "cell_type": "code",
   "execution_count": 45,
   "id": "db953f32",
   "metadata": {},
   "outputs": [],
   "source": [
    "scale *= 4"
   ]
  },
  {
   "cell_type": "code",
   "execution_count": 46,
   "id": "4562e6ec",
   "metadata": {},
   "outputs": [
    {
     "data": {
      "text/plain": [
       "tensor([-2.3365])"
      ]
     },
     "execution_count": 46,
     "metadata": {},
     "output_type": "execute_result"
    }
   ],
   "source": [
    "norm.log_prob(Tensor([2]))"
   ]
  },
  {
   "cell_type": "markdown",
   "id": "62e3b690",
   "metadata": {},
   "source": [
    "## Differentiable distributions\n",
    "<mark>Most of the methods of a `Distribution` are differentiable</mark>, meaning that if the parameters of the distribution require gradient, the <mark>returned values will carry a gradient function</mark>"
   ]
  },
  {
   "cell_type": "code",
   "execution_count": 47,
   "id": "fdc97c05",
   "metadata": {},
   "outputs": [],
   "source": [
    "loc = torch.tensor([0.], requires_grad=True)\n",
    "scale = torch.tensor([1.], requires_grad=True)"
   ]
  },
  {
   "cell_type": "code",
   "execution_count": 48,
   "id": "f25b93de",
   "metadata": {},
   "outputs": [],
   "source": [
    "norm = distributions.Normal(loc=loc,scale=scale)"
   ]
  },
  {
   "cell_type": "code",
   "execution_count": 49,
   "id": "21943cb3",
   "metadata": {
    "scrolled": true
   },
   "outputs": [
    {
     "data": {
      "text/plain": [
       "tensor([-2.9189], grad_fn=<SubBackward0>)"
      ]
     },
     "execution_count": 49,
     "metadata": {},
     "output_type": "execute_result"
    }
   ],
   "source": [
    "norm.log_prob(Tensor([2]))"
   ]
  },
  {
   "cell_type": "code",
   "execution_count": 50,
   "id": "0173dbe3",
   "metadata": {
    "scrolled": true
   },
   "outputs": [
    {
     "data": {
      "text/plain": [
       "tensor([0.5000, 0.8413, 0.9772], grad_fn=<MulBackward0>)"
      ]
     },
     "execution_count": 50,
     "metadata": {},
     "output_type": "execute_result"
    }
   ],
   "source": [
    "norm.cdf(Tensor([0,1,2]))"
   ]
  },
  {
   "cell_type": "markdown",
   "id": "d5542288",
   "metadata": {},
   "source": [
    "The <mark>exception is the `sample()` method:</mark>"
   ]
  },
  {
   "cell_type": "code",
   "execution_count": 51,
   "id": "54d441a7",
   "metadata": {},
   "outputs": [
    {
     "data": {
      "text/plain": [
       "tensor([[-0.8584],\n",
       "        [ 0.3077]])"
      ]
     },
     "execution_count": 51,
     "metadata": {},
     "output_type": "execute_result"
    }
   ],
   "source": [
    "norm.sample([2])"
   ]
  },
  {
   "cell_type": "markdown",
   "id": "6c541ad0",
   "metadata": {},
   "source": [
    "However some distributions can be <mark>re-parameterised such that the samples are differentiable</mark>, e.g. the Gaussian samples can be drawn as `(scale*z~N(0,1))+loc)`.\n",
    "The <mark>`rsample` method will return differentiable samples, if that is possible for the distribution.</mark>"
   ]
  },
  {
   "cell_type": "code",
   "execution_count": 52,
   "id": "17b6e322",
   "metadata": {},
   "outputs": [
    {
     "data": {
      "text/plain": [
       "tensor([[0.3847],\n",
       "        [0.5515]], grad_fn=<AddBackward0>)"
      ]
     },
     "execution_count": 52,
     "metadata": {},
     "output_type": "execute_result"
    }
   ],
   "source": [
    "norm.rsample([2])"
   ]
  }
 ],
 "metadata": {
  "kernelspec": {
   "display_name": "Python 3.10.8 64-bit",
   "language": "python",
   "name": "python3"
  },
  "language_info": {
   "codemirror_mode": {
    "name": "ipython",
    "version": 3
   },
   "file_extension": ".py",
   "mimetype": "text/x-python",
   "name": "python",
   "nbconvert_exporter": "python",
   "pygments_lexer": "ipython3",
   "version": "3.10.8"
  },
  "toc": {
   "base_numbering": 1,
   "nav_menu": {},
   "number_sections": true,
   "sideBar": true,
   "skip_h1_title": false,
   "title_cell": "Table of Contents",
   "title_sidebar": "Contents",
   "toc_cell": false,
   "toc_position": {},
   "toc_section_display": true,
   "toc_window_display": false
  },
  "vscode": {
   "interpreter": {
    "hash": "7e1998ff7f8aa20ada591c520b972326324e5ea05489af9e422744c7c09f6dad"
   }
  }
 },
 "nbformat": 4,
 "nbformat_minor": 5
}
