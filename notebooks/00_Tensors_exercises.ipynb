{
 "cells": [
  {
   "cell_type": "code",
   "execution_count": 132,
   "id": "ccc4e6a6",
   "metadata": {},
   "outputs": [],
   "source": [
    "%matplotlib inline\n",
    "%reload_ext autoreload\n",
    "%autoreload 2"
   ]
  },
  {
   "cell_type": "code",
   "execution_count": 133,
   "id": "350792d8",
   "metadata": {},
   "outputs": [],
   "source": [
    "import torch\n",
    "from torch import Tensor\n",
    "\n",
    "from typing import *\n",
    "import matplotlib.pyplot as plt\n",
    "import seaborn as sns"
   ]
  },
  {
   "cell_type": "code",
   "execution_count": 134,
   "id": "1d79c6b0",
   "metadata": {},
   "outputs": [],
   "source": [
    "import warnings\n",
    "warnings.filterwarnings('ignore')"
   ]
  },
  {
   "cell_type": "markdown",
   "id": "909b8889",
   "metadata": {},
   "source": [
    "In this set of exercises, we'll be building up towards a tensor that holds the kinematic properties of a batch of muons, that move in 3D."
   ]
  },
  {
   "cell_type": "markdown",
   "id": "3ded5b03",
   "metadata": {},
   "source": [
    "## Initial sampling\n",
    "### Position\n",
    "First, create a (100,3) tensor, called `muons`, of initial positions for 100 muons in (x,y,z), such that `x~Uniform[0,10]`, `y~Uniform[0,5]`, and `z=8`."
   ]
  },
  {
   "cell_type": "code",
   "execution_count": 135,
   "id": "ffcf3379",
   "metadata": {},
   "outputs": [
    {
     "data": {
      "text/plain": [
       "tensor([[3.1793, 3.6236, 8.0000],\n",
       "        [4.5112, 1.8158, 8.0000],\n",
       "        [5.9811, 4.5944, 8.0000],\n",
       "        [8.2904, 3.4543, 8.0000],\n",
       "        [0.5225, 4.8523, 8.0000],\n",
       "        [8.7192, 0.8502, 8.0000],\n",
       "        [4.7474, 0.9307, 8.0000],\n",
       "        [5.5180, 4.5199, 8.0000],\n",
       "        [4.0890, 0.8553, 8.0000],\n",
       "        [7.4799, 1.0896, 8.0000],\n",
       "        [2.8964, 2.9420, 8.0000],\n",
       "        [3.5308, 2.0054, 8.0000],\n",
       "        [8.4192, 4.0845, 8.0000],\n",
       "        [8.3711, 2.1731, 8.0000],\n",
       "        [7.2830, 3.6322, 8.0000],\n",
       "        [1.4614, 2.9082, 8.0000],\n",
       "        [1.5259, 0.1253, 8.0000],\n",
       "        [6.7054, 2.6313, 8.0000],\n",
       "        [7.6186, 3.0390, 8.0000],\n",
       "        [3.5303, 2.7349, 8.0000],\n",
       "        [4.0448, 2.9980, 8.0000],\n",
       "        [6.9750, 1.3521, 8.0000],\n",
       "        [6.4916, 0.3283, 8.0000],\n",
       "        [6.6063, 3.3843, 8.0000],\n",
       "        [6.8347, 2.1390, 8.0000],\n",
       "        [8.5972, 2.2465, 8.0000],\n",
       "        [2.4328, 1.1788, 8.0000],\n",
       "        [7.3708, 1.3398, 8.0000],\n",
       "        [0.8200, 0.1670, 8.0000],\n",
       "        [2.6854, 3.5790, 8.0000],\n",
       "        [6.7365, 4.0110, 8.0000],\n",
       "        [4.8631, 3.4803, 8.0000],\n",
       "        [1.7689, 0.3367, 8.0000],\n",
       "        [3.4463, 1.8687, 8.0000],\n",
       "        [6.6783, 0.0453, 8.0000],\n",
       "        [4.8895, 4.7476, 8.0000],\n",
       "        [4.8749, 0.3966, 8.0000],\n",
       "        [5.9189, 4.1569, 8.0000],\n",
       "        [0.8105, 1.2456, 8.0000],\n",
       "        [9.1456, 0.5188, 8.0000],\n",
       "        [8.7002, 4.8108, 8.0000],\n",
       "        [2.0359, 1.8976, 8.0000],\n",
       "        [0.3401, 1.4949, 8.0000],\n",
       "        [3.1601, 2.2314, 8.0000],\n",
       "        [1.7911, 2.6948, 8.0000],\n",
       "        [0.5612, 1.0989, 8.0000],\n",
       "        [7.0703, 4.9025, 8.0000],\n",
       "        [9.7992, 1.3181, 8.0000],\n",
       "        [6.7726, 4.2394, 8.0000],\n",
       "        [8.2351, 2.5842, 8.0000],\n",
       "        [8.6020, 3.2189, 8.0000],\n",
       "        [2.4119, 0.2857, 8.0000],\n",
       "        [4.7398, 0.0746, 8.0000],\n",
       "        [4.9015, 2.3857, 8.0000],\n",
       "        [8.1470, 3.8689, 8.0000],\n",
       "        [5.5234, 4.3047, 8.0000],\n",
       "        [5.0796, 0.6084, 8.0000],\n",
       "        [5.2430, 2.5002, 8.0000],\n",
       "        [8.6381, 1.0433, 8.0000],\n",
       "        [9.9760, 1.2329, 8.0000],\n",
       "        [3.3913, 4.0323, 8.0000],\n",
       "        [8.7380, 4.3652, 8.0000],\n",
       "        [5.1607, 0.1986, 8.0000],\n",
       "        [8.3069, 0.2453, 8.0000],\n",
       "        [6.2521, 1.2987, 8.0000],\n",
       "        [8.4907, 0.9713, 8.0000],\n",
       "        [4.2026, 4.2899, 8.0000],\n",
       "        [3.0718, 3.2678, 8.0000],\n",
       "        [1.7237, 3.9902, 8.0000],\n",
       "        [6.3332, 0.7674, 8.0000],\n",
       "        [2.5183, 4.9557, 8.0000],\n",
       "        [6.4203, 0.5195, 8.0000],\n",
       "        [9.1806, 1.1948, 8.0000],\n",
       "        [7.5039, 2.1993, 8.0000],\n",
       "        [7.9489, 0.9421, 8.0000],\n",
       "        [5.5869, 3.0534, 8.0000],\n",
       "        [4.9148, 1.8679, 8.0000],\n",
       "        [3.3508, 1.1027, 8.0000],\n",
       "        [3.9984, 4.7726, 8.0000],\n",
       "        [5.7898, 4.8143, 8.0000],\n",
       "        [3.8361, 4.5138, 8.0000],\n",
       "        [1.7745, 4.2240, 8.0000],\n",
       "        [2.0639, 4.3583, 8.0000],\n",
       "        [0.0900, 4.5727, 8.0000],\n",
       "        [1.1576, 0.6118, 8.0000],\n",
       "        [9.9774, 3.9852, 8.0000],\n",
       "        [0.9095, 1.0004, 8.0000],\n",
       "        [7.2643, 3.8259, 8.0000],\n",
       "        [6.4571, 1.0305, 8.0000],\n",
       "        [3.1044, 0.0710, 8.0000],\n",
       "        [9.6598, 3.9629, 8.0000],\n",
       "        [6.5809, 0.1066, 8.0000],\n",
       "        [0.9620, 2.7165, 8.0000],\n",
       "        [8.8488, 0.5818, 8.0000],\n",
       "        [9.9205, 3.2449, 8.0000],\n",
       "        [1.4563, 4.0633, 8.0000],\n",
       "        [1.6872, 3.1838, 8.0000],\n",
       "        [6.3930, 3.5414, 8.0000],\n",
       "        [6.0658, 0.7173, 8.0000],\n",
       "        [0.5536, 2.3693, 8.0000]])"
      ]
     },
     "execution_count": 135,
     "metadata": {},
     "output_type": "execute_result"
    }
   ],
   "source": [
    "# your code goes here\n",
    "\n",
    "nmuons = 100\n",
    "muons = torch.rand(nmuons, 3)\n",
    "muons[:, 0] *= 10\n",
    "muons[:, 1] *= 5\n",
    "muons[:, 2] = 8.\n",
    "muons"
   ]
  },
  {
   "cell_type": "code",
   "execution_count": 136,
   "id": "784f5017",
   "metadata": {},
   "outputs": [
    {
     "data": {
      "text/plain": [
       "<matplotlib.legend.Legend at 0x1354dff70>"
      ]
     },
     "execution_count": 136,
     "metadata": {},
     "output_type": "execute_result"
    },
    {
     "data": {
      "image/png": "[encoded data removed]",
      "text/plain": [
       "<Figure size 640x480 with 1 Axes>"
      ]
     },
     "metadata": {},
     "output_type": "display_data"
    }
   ],
   "source": [
    "sns.distplot(muons[:,0], label='x', kde=False, norm_hist=True)\n",
    "sns.distplot(muons[:,1], label='y', kde=False, norm_hist=True)\n",
    "plt.legend()"
   ]
  },
  {
   "cell_type": "code",
   "execution_count": 137,
   "id": "abc16492",
   "metadata": {},
   "outputs": [],
   "source": [
    "assert (muons > 0).all()\n",
    "assert (muons[:,0] < 10).all()\n",
    "assert (muons[:,1] < 5).all()\n",
    "assert (muons[:,2] == 8).all()\n",
    "assert len(muons) == 100"
   ]
  },
  {
   "cell_type": "markdown",
   "id": "e9d579d8",
   "metadata": {},
   "source": [
    "### Angle\n",
    "Now include in the muon tensor the theta and phi angle of the direction of travel of the muon. Theta is the angle from the positive direction of the z-axis, $\\theta\\sim[0,\\pi)$, and phi is the azimuthal angle in the xy plane, starting from the positive x-axis and increasing towards the positive y-axis, $\\phi\\sim[0,2\\pi)$, as shown below:\n",
    "\n",
    "<img src=\"imgs/3D_Spherical.svg.png\" width=\"20%\"/>\n",
    "\n",
    "*Image by [Andeggs - Own work, Public Domain](https://commons.wikimedia.org/w/index.php?curid=7478049)*\n",
    "\n",
    "The phi angle should be sampled uniformly, and theta should be sampled according to the absolute value of a Gaussian with mean zero and sigma pi/4.\n",
    "The final `muons` tensor should be of shape (10,5) corresponding to (x,y,z,theta,phi)."
   ]
  },
  {
   "cell_type": "code",
   "execution_count": 138,
   "id": "bbfbc381",
   "metadata": {},
   "outputs": [],
   "source": [
    "# your code goes here\n",
    "theta = torch.abs(torch.randn(len(muons),1)*torch.pi/4).clamp_max(torch.pi) # clamps elements in input to be smaller than pi\n",
    "phi = torch.rand(len(muons),1)*2*torch.pi\n",
    "\n",
    "muons = torch.cat((muons, theta, phi), dim = -1)"
   ]
  },
  {
   "cell_type": "code",
   "execution_count": 139,
   "id": "de8ffccb",
   "metadata": {},
   "outputs": [
    {
     "data": {
      "text/plain": [
       "<matplotlib.legend.Legend at 0x1355407f0>"
      ]
     },
     "execution_count": 139,
     "metadata": {},
     "output_type": "execute_result"
    },
    {
     "data": {
      "image/png": "[encoded data removed]",
      "text/plain": [
       "<Figure size 640x480 with 1 Axes>"
      ]
     },
     "metadata": {},
     "output_type": "display_data"
    }
   ],
   "source": [
    "sns.distplot(muons[:,-2], label='theta', kde=False, norm_hist=True)\n",
    "sns.distplot(muons[:,-1], label='phi', kde=False, norm_hist=True)\n",
    "plt.legend()"
   ]
  },
  {
   "cell_type": "code",
   "execution_count": 140,
   "id": "e75104d6",
   "metadata": {},
   "outputs": [],
   "source": [
    "assert (muons > 0).all()\n",
    "assert (muons[:,3] < torch.pi).all()\n",
    "assert (muons[:,4] < 2*torch.pi).all()\n",
    "assert len(muons) == 100"
   ]
  },
  {
   "cell_type": "markdown",
   "id": "80dd5bea",
   "metadata": {},
   "source": [
    "## Propagation\n",
    "Write a function that will update the muon positions after they have all travelled a certain distance along their direction of travel. The distance can either be the same for every muon (provided as a float), or each muon can be provided with its own distance travel, in the form of a (100,1) tensor.\n",
    "\n",
    "Decomposing a distance r in spherical coordinates to Cartesian coordinates is:\n",
    "$$z = r\\cos\\theta$$\n",
    "$$x = r\\sin\\theta\\cos\\phi$$\n",
    "$$y = r\\sin\\theta\\sin\\phi$$\n",
    "\n",
    "The `propagate` function should update the muon positions internally, rather that returning the distances travelled."
   ]
  },
  {
   "cell_type": "code",
   "execution_count": 141,
   "id": "7e809b2a",
   "metadata": {},
   "outputs": [],
   "source": [
    "def propagate(muons:Tensor, distances:Union[float,Tensor]) -> None:\n",
    "    # your code goes here\n",
    "\n",
    "    muons[:, 2] = muons[:, 2]+(distances*torch.cos(muons[:, -2]))\n",
    "    rst = distances*torch.sin(muons[:,3])\n",
    "    muons[:, 0] = muons[:, 0]+(rst*torch.cos(muons[:, -1]))    \n",
    "    muons[:, 1] = muons[:, 1]+(rst*torch.sin(muons[:, -1]))"
   ]
  },
  {
   "cell_type": "code",
   "execution_count": 142,
   "id": "bb23cc8f",
   "metadata": {},
   "outputs": [],
   "source": [
    "test = Tensor([[0,0,0,0,0], [0,0,0,torch.pi/4,0], [0,0,0,torch.pi/2,torch.pi*3/4], [0,0,0,torch.pi*3/4,torch.pi/2]])"
   ]
  },
  {
   "cell_type": "code",
   "execution_count": 143,
   "id": "769a61dd",
   "metadata": {},
   "outputs": [],
   "source": [
    "propagate(test, 1)"
   ]
  },
  {
   "cell_type": "code",
   "execution_count": 144,
   "id": "263b149d",
   "metadata": {},
   "outputs": [],
   "source": [
    "assert ((test - Tensor([[ 0.0000e+00,  0.0000e+00,  1.0000e+00,  0.0000e+00,  0.0000e+00],\n",
    "        [ 7.0711e-01,  0.0000e+00,  7.0711e-01,  7.8540e-01,  0.0000e+00],\n",
    "        [-7.0711e-01,  7.0711e-01, -4.3711e-08,  1.5708e+00,  2.3562e+00],\n",
    "        [-3.0909e-08,  7.0711e-01, -7.0711e-01,  2.3562e+00,  1.5708e+00]])).abs() < 1e-3).all()"
   ]
  },
  {
   "cell_type": "code",
   "execution_count": 145,
   "id": "aef35ea0",
   "metadata": {},
   "outputs": [],
   "source": [
    "propagate(test, Tensor([0,1,-2,3.5]))"
   ]
  },
  {
   "cell_type": "code",
   "execution_count": 146,
   "id": "2ba72a1b",
   "metadata": {},
   "outputs": [],
   "source": [
    "assert ((test - Tensor([[ 0.0000e+00,  0.0000e+00,  1.0000e+00,  0.0000e+00,  0.0000e+00],\n",
    "        [ 1.4142e+00,  0.0000e+00,  1.4142e+00,  7.8540e-01,  0.0000e+00],\n",
    "        [ 7.0711e-01, -7.0711e-01,  4.3711e-08,  1.5708e+00,  2.3562e+00],\n",
    "        [-1.3909e-07,  3.1820e+00, -3.1820e+00,  2.3562e+00,  1.5708e+00]])).abs() < 1e-3).all()"
   ]
  },
  {
   "cell_type": "markdown",
   "id": "bd9a7e3b",
   "metadata": {},
   "source": [
    "## Masking\n",
    "Use Boolean masking to remove any muons with a theta angle greater than of equal to pi/2."
   ]
  },
  {
   "cell_type": "code",
   "execution_count": 148,
   "id": "ef13cc86",
   "metadata": {},
   "outputs": [],
   "source": [
    "# your code goes here\n",
    "mask = muons[:, -2] < torch.pi / 2"
   ]
  },
  {
   "cell_type": "code",
   "execution_count": 149,
   "id": "73cd47bd",
   "metadata": {},
   "outputs": [
    {
     "data": {
      "text/plain": [
       "95"
      ]
     },
     "execution_count": 149,
     "metadata": {},
     "output_type": "execute_result"
    }
   ],
   "source": [
    "muons = muons[mask]\n",
    "len(muons)"
   ]
  },
  {
   "cell_type": "markdown",
   "id": "d55146a6",
   "metadata": {},
   "source": [
    "Now compute the mean values of all the muon properties"
   ]
  },
  {
   "cell_type": "code",
   "execution_count": 153,
   "id": "952621cb",
   "metadata": {},
   "outputs": [
    {
     "name": "stdout",
     "output_type": "stream",
     "text": [
      "mean x:  tensor(5.2874)\n",
      "mean y:  tensor(2.4165)\n",
      "mean z:  tensor(8.)\n",
      "mean theta:  tensor(0.5720)\n",
      "mean phi:  tensor(2.8199)\n"
     ]
    },
    {
     "data": {
      "text/plain": [
       "tensor([5.2874, 2.4165, 8.0000, 0.5720, 2.8199])"
      ]
     },
     "execution_count": 153,
     "metadata": {},
     "output_type": "execute_result"
    }
   ],
   "source": [
    "# your code goes here\n",
    "print(\"mean x: \", torch.mean(muons[:, 0]))\n",
    "print(\"mean y: \", torch.mean(muons[:, 1]))\n",
    "print(\"mean z: \", torch.mean(muons[:, 2]))\n",
    "print(\"mean theta: \", torch.mean(muons[:, 3]))\n",
    "print(\"mean phi: \", torch.mean(muons[:, 4]))\n",
    "\n",
    "\n",
    "# you can also do:\n",
    "muons.mean(0)"
   ]
  }
 ],
 "metadata": {
  "kernelspec": {
   "display_name": "Python 3.10.8 64-bit",
   "language": "python",
   "name": "python3"
  },
  "language_info": {
   "codemirror_mode": {
    "name": "ipython",
    "version": 3
   },
   "file_extension": ".py",
   "mimetype": "text/x-python",
   "name": "python",
   "nbconvert_exporter": "python",
   "pygments_lexer": "ipython3",
   "version": "3.10.8"
  },
  "toc": {
   "base_numbering": 1,
   "nav_menu": {},
   "number_sections": true,
   "sideBar": true,
   "skip_h1_title": false,
   "title_cell": "Table of Contents",
   "title_sidebar": "Contents",
   "toc_cell": false,
   "toc_position": {},
   "toc_section_display": true,
   "toc_window_display": false
  },
  "vscode": {
   "interpreter": {
    "hash": "7e1998ff7f8aa20ada591c520b972326324e5ea05489af9e422744c7c09f6dad"
   }
  }
 },
 "nbformat": 4,
 "nbformat_minor": 5
}
